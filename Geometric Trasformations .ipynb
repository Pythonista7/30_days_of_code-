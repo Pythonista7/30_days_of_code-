{
 "cells": [
  {
   "cell_type": "markdown",
   "metadata": {},
   "source": [
    "# Geometric Trasformations In OpenCV"
   ]
  },
  {
   "cell_type": "markdown",
   "metadata": {},
   "source": [
    "### Transformation Function \n",
    "cv2.warpAffine and cv2.warpPerspective, with which you can have all kinds of transformations.<br>\n",
    "* <b>cv2.warpAffine takes</b> a 2x3 transformation matrix <br>\n",
    "* <b>cv2.warpPerspective</b> takes a 3x3 transformation matrix as input."
   ]
  },
  {
   "cell_type": "markdown",
   "metadata": {},
   "source": [
    "### Scaling ( Resizing )\n",
    "\n",
    "Scaling is just resizing of the image. OpenCV comes with a function <b>cv2.resize()</b> for this purpose. <br>\n",
    "Preferable interpolation methods are <br>\n",
    "* cv2.INTER_AREA for shrinking<br>\n",
    "* cv2.INTER_CUBIC (slow) & cv2.INTER_LINEAR for zooming.<br>\n",
    "* By default, interpolation method used is cv2.INTER_LINEAR for all resizing purposes."
   ]
  },
  {
   "cell_type": "code",
   "execution_count": 31,
   "metadata": {},
   "outputs": [],
   "source": [
    "import cv2\n"
   ]
  },
  {
   "cell_type": "code",
   "execution_count": 32,
   "metadata": {},
   "outputs": [],
   "source": [
    "import numpy as np"
   ]
  },
  {
   "cell_type": "code",
   "execution_count": 34,
   "metadata": {},
   "outputs": [],
   "source": [
    "img=cv2.imread('assets/img.jpeg')\n",
    "small=cv2.resize(img,(30,30),interpolation=cv2.INTER_AREA)\n",
    "zoom_cubic=cv2.resize(img,(800,800),interpolation=cv2.INTER_CUBIC)\n",
    "while(True):\n",
    "    \n",
    "    cv2.imshow('ori',img)\n",
    "    cv2.imshow('small',small)\n",
    "    cv2.imshow('big',zoom_cubic)\n",
    "    k=cv2.waitKey(1)&0xFF\n",
    "    if (k==27):\n",
    "        break\n",
    "\n",
    "cv2.destroyAllWindows()"
   ]
  },
  {
   "cell_type": "markdown",
   "metadata": {},
   "source": [
    "### Translation\n",
    "\n",
    "Translation is the shifting of object's location. If you know the shift in (x,y) direction, let it be (tx,ty), you can create the transformation matrix M as follows:\n",
    "![]()\n",
    "M = \\begin{bmatrix} 1 & 0 & t_x \\\\ 0 & 1 & t_y \\end{bmatrix}"
   ]
  },
  {
   "cell_type": "markdown",
   "metadata": {},
   "source": [
    "Make a transformation matrix as above and pass to warpAffine function to shift image.  "
   ]
  },
  {
   "cell_type": "code",
   "execution_count": 35,
   "metadata": {},
   "outputs": [],
   "source": [
    "img=cv2.imread('assets/img.jpeg',0)\n",
    "rows,cols=img.shape\n",
    "M=np.float32([[1,0,40],[0,1,30]])\n",
    "res=cv2.warpAffine(img,M,(cols,rows))"
   ]
  },
  {
   "cell_type": "code",
   "execution_count": 36,
   "metadata": {},
   "outputs": [],
   "source": [
    "cv2.imshow('Shifted img',res)\n",
    "cv2.waitKey(0)\n",
    "cv2.destroyAllWindows()"
   ]
  },
  {
   "cell_type": "markdown",
   "metadata": {},
   "source": [
    "### Rotation"
   ]
  },
  {
   "cell_type": "markdown",
   "metadata": {},
   "source": [
    "Rotation of an image for an angle θ is achieved by the transformation matrix of the form:\n",
    "\n",
    "M = \\begin{bmatrix} cos\\theta & -sin\\theta \\\\ sin\\theta & cos\\theta \\end{bmatrix}\n",
    "\n",
    "But OpenCV provides scaled rotation with adjustable center of rotation so that you can rotate at any location you prefer. Modified transformation matrix is given by :\n",
    "\n",
    "\\begin{bmatrix} \\alpha & \\beta & (1- \\alpha ) \\cdot center.x - \\beta \\cdot center.y \\\\ - \\beta & \\alpha & \\beta \\cdot center.x + (1- \\alpha ) \\cdot center.y \\end{bmatrix}\n",
    "\n",
    "\\begin{array}{l} \\alpha = scale \\cdot \\cos \\theta , \\\\ \\beta = scale \\cdot \\sin \\theta \\end{array}\n"
   ]
  },
  {
   "cell_type": "markdown",
   "metadata": {},
   "source": [
    "To find this transformation matrix, OpenCV provides a function,<b>cv2.getRotationMatrix2D</b>. "
   ]
  },
  {
   "cell_type": "code",
   "execution_count": 37,
   "metadata": {},
   "outputs": [],
   "source": [
    "M=cv2.getRotationMatrix2D(center=(rows/2,cols/2),angle=45,scale=1)"
   ]
  },
  {
   "cell_type": "code",
   "execution_count": 38,
   "metadata": {},
   "outputs": [],
   "source": [
    "res=cv2.warpAffine(img,M,(cols,rows))"
   ]
  },
  {
   "cell_type": "code",
   "execution_count": 39,
   "metadata": {},
   "outputs": [],
   "source": [
    "cv2.imshow('Rotated img',res)\n",
    "cv2.waitKey(0)\n",
    "cv2.destroyAllWindows()"
   ]
  },
  {
   "cell_type": "markdown",
   "metadata": {},
   "source": [
    "### Prespective Transformation"
   ]
  },
  {
   "cell_type": "markdown",
   "metadata": {},
   "source": [
    "For perspective transformation, you need a 3x3 transformation matrix. Straight lines will remain straight even after the transformation. To find this transformation matrix, you need 4 points on the input image and corresponding points on the output image. Among these 4 points, 3 of them should not be collinear. Then transformation matrix can be found by the function <b>cv2.getPerspectiveTransform</b>. Then apply <b>cv2.warpPerspective</b> with this 3x3 transformation matrix."
   ]
  },
  {
   "cell_type": "code",
   "execution_count": 40,
   "metadata": {},
   "outputs": [],
   "source": [
    "img=cv2.imread('assets/big.jpg')\n",
    "while(True):\n",
    "    cv2.imshow('big',img)\n",
    "    k=cv2.waitKey(1)&0xFF\n",
    "    if (k==27):\n",
    "        break\n",
    "\n",
    "cv2.destroyAllWindows()"
   ]
  },
  {
   "cell_type": "code",
   "execution_count": 41,
   "metadata": {},
   "outputs": [],
   "source": [
    "\n",
    "#Note Order of points must be TopLf , Top Rt, Bottom Lt , Bottom Rt. change in this order leads to rotation.\n",
    "src=np.float32([[170,110],[380,110],[170,380],[380,380]])\n",
    "dst=np.float32([[0,0],[300,0],[0,300],[300,300]])\n",
    "M=cv2.getPerspectiveTransform(src,dst)\n",
    "res = cv2.warpPerspective(img,M,(300,300))\n"
   ]
  },
  {
   "cell_type": "code",
   "execution_count": 42,
   "metadata": {},
   "outputs": [],
   "source": [
    "while(True):\n",
    "    cv2.imshow('PrespectiveTransform',res)\n",
    "    k=cv2.waitKey(1)&0xFF\n",
    "    if (k==27):\n",
    "        break\n",
    "cv2.destroyAllWindows()"
   ]
  },
  {
   "cell_type": "code",
   "execution_count": 30,
   "metadata": {},
   "outputs": [],
   "source": [
    "cv2.destroyAllWindows()"
   ]
  },
  {
   "cell_type": "markdown",
   "metadata": {},
   "source": [
    "## END"
   ]
  }
 ],
 "metadata": {
  "kernelspec": {
   "display_name": "Python 3",
   "language": "python",
   "name": "python3"
  },
  "language_info": {
   "codemirror_mode": {
    "name": "ipython",
    "version": 3
   },
   "file_extension": ".py",
   "mimetype": "text/x-python",
   "name": "python",
   "nbconvert_exporter": "python",
   "pygments_lexer": "ipython3",
   "version": "3.6.7"
  }
 },
 "nbformat": 4,
 "nbformat_minor": 2
}
